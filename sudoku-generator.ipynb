{
 "cells": [
  {
   "cell_type": "code",
   "execution_count": 3,
   "metadata": {
    "pycharm": {
     "is_executing": false
    }
   },
   "outputs": [
    {
     "name": "stdout",
     "output_type": "stream",
     "text": [
      "+-+-+-+-+-+-+-+-+-+\n",
      "| |9| | |3|2| | | |\n",
      "+-+-+-+-+-+-+-+-+-+\n",
      "|6|8| |4|2|1| |9| |\n",
      "+-+-+-+-+-+-+-+-+-+\n",
      "|2|4|1| |7|6|8| |3|\n",
      "+-+-+-+-+-+-+-+-+-+\n",
      "| |3|9| | |5|7|4|2|\n",
      "+-+-+-+-+-+-+-+-+-+\n",
      "|9|2|8|7| |4| | | |\n",
      "+-+-+-+-+-+-+-+-+-+\n",
      "|8|1|7|6|4| |5|2| |\n",
      "+-+-+-+-+-+-+-+-+-+\n",
      "| | |4| | | | |8|6|\n",
      "+-+-+-+-+-+-+-+-+-+\n",
      "| | |3| |9|8|1|7|5|\n",
      "+-+-+-+-+-+-+-+-+-+\n",
      "| |5|2| | | | |6|4|\n",
      "+-+-+-+-+-+-+-+-+-+\n"
     ]
    }
   ],
   "source": [
    "from random import shuffle, randrange\n",
    "\n",
    "def generate():\n",
    "    # 初始网格\n",
    "    result = []\n",
    "    line = list(range(1,10))\n",
    "    for i in range(9):\n",
    "        result.append(line)\n",
    "        line.append(line.pop(0))\n",
    "        # 注意，这里的切片很重要\n",
    "        line = line[:]\n",
    "\n",
    "    # Python允许函数的嵌套定义\n",
    "    def switchRows(first, second):\n",
    "        # 这里的括号和换行不是必须的\n",
    "        # 只是为了方便手机阅读\n",
    "        (result[first], result[second]) = (result[second], result[first])\n",
    "    \n",
    "    def switchColumns(first, second):\n",
    "        for index in range(9):\n",
    "            (result[index][first], result[index][second]) = (result[index][second], result[index][first])\n",
    "\n",
    "    # 随机交换行\n",
    "    randomRows = list(range(9))\n",
    "    shuffle(randomRows)\n",
    "    for i in range(0,7,2):\n",
    "        switchRows(randomRows[i],\\\n",
    "                   randomRows[i+1])\n",
    "    # 随机交换列\n",
    "    randomColumns = list(range(9))\n",
    "    shuffle(randomColumns)\n",
    "    for i in range(0,7,2):\n",
    "        switchColumns(randomColumns[i],\\\n",
    "                      randomColumns[i+1])\n",
    "   # 随机清空一些格子\n",
    "    num = randrange(25, 50)\n",
    "    positions = {(randrange(9),randrange(9))\\\n",
    "                 for i in range(num)}\n",
    "    for row, col in positions:\n",
    "        result[row][col] = ' '\n",
    "\n",
    "    return result\n",
    "\n",
    "def output(grids):\n",
    "    print('+'+'-+'*9)\n",
    "    for row in range(9):\n",
    "        line = '|'.join(map(str,grids[row]))\n",
    "        line = line.join(['|']*2)\n",
    "        print(line)\n",
    "        print('+'+'-+'*9)   \n",
    "\n",
    "grids = generate()\n",
    "output(grids)"
   ]
  },
  {
   "cell_type": "code",
   "execution_count": 4,
   "metadata": {
    "pycharm": {
     "is_executing": false
    }
   },
   "outputs": [],
   "source": []
  }
 ],
 "metadata": {
  "kernelspec": {
   "display_name": "Python 3",
   "language": "python",
   "name": "python3"
  },
  "language_info": {
   "codemirror_mode": {
    "name": "ipython",
    "version": 3
   },
   "file_extension": ".py",
   "mimetype": "text/x-python",
   "name": "python",
   "nbconvert_exporter": "python",
   "pygments_lexer": "ipython3",
   "version": "3.7.7"
  },
  "pycharm": {
   "stem_cell": {
    "cell_type": "raw",
    "source": [],
    "metadata": {
     "collapsed": false
    }
   }
  }
 },
 "nbformat": 4,
 "nbformat_minor": 4
}